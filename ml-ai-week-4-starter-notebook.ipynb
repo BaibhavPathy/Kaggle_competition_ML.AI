{
 "cells": [
  {
   "cell_type": "code",
   "execution_count": 1,
   "id": "304224ec",
   "metadata": {
    "_cell_guid": "b1076dfc-b9ad-4769-8c92-a6c4dae69d19",
    "_uuid": "8f2839f25d086af736a60e9eeb907d3b93b6e0e5",
    "execution": {
     "iopub.execute_input": "2023-06-13T16:56:38.681264Z",
     "iopub.status.busy": "2023-06-13T16:56:38.680829Z",
     "iopub.status.idle": "2023-06-13T16:56:40.767714Z",
     "shell.execute_reply": "2023-06-13T16:56:40.766342Z"
    },
    "papermill": {
     "duration": 2.099314,
     "end_time": "2023-06-13T16:56:40.770467",
     "exception": false,
     "start_time": "2023-06-13T16:56:38.671153",
     "status": "completed"
    },
    "tags": []
   },
   "outputs": [],
   "source": [
    "# This Python 3 environment comes with many helpful analytics libraries installed\n",
    "# It is defined by the kaggle/python Docker image: https://github.com/kaggle/docker-python\n",
    "# For example, here's several helpful packages to load\n",
    "\n",
    "import numpy as np # linear algebra\n",
    "import pandas as pd # data processing, CSV file I/O (e.g. pd.read_csv)\n",
    "from sklearn import preprocessing\n",
    "from sklearn.model_selection import train_test_split\n",
    "from sklearn.ensemble import RandomForestRegressor\n",
    "\n",
    "\n",
    "from tqdm.auto import tqdm\n",
    "from sklearn.metrics import mean_squared_error\n",
    "\n",
    "# Input data files are available in the read-only \"../input/\" directory\n",
    "# For example, running this (by clicking run or pressing Shift+Enter) will list all files under the input directory\n",
    "\n",
    "import os\n",
    "for dirname, _, filenames in os.walk('/kaggle/input'):\n",
    "    for filename in filenames:\n",
    "        print(os.path.join(dirname, filename))\n",
    "\n",
    "# You can write up to 20GB to the current directory (/kaggle/working/) that gets preserved as output when you create a version using \"Save & Run All\" \n",
    "# You can also write temporary files to /kaggle/temp/, but they won't be saved outside of the current session"
   ]
  },
  {
   "cell_type": "code",
   "execution_count": 2,
   "id": "098aa8bf",
   "metadata": {
    "execution": {
     "iopub.execute_input": "2023-06-13T16:56:40.791058Z",
     "iopub.status.busy": "2023-06-13T16:56:40.790057Z",
     "iopub.status.idle": "2023-06-13T16:56:40.825998Z",
     "shell.execute_reply": "2023-06-13T16:56:40.824646Z"
    },
    "papermill": {
     "duration": 0.049756,
     "end_time": "2023-06-13T16:56:40.829217",
     "exception": false,
     "start_time": "2023-06-13T16:56:40.779461",
     "status": "completed"
    },
    "tags": []
   },
   "outputs": [],
   "source": [
    "train_df = pd.read_csv(\"Train.csv\")"
   ]
  },
  {
   "cell_type": "code",
   "execution_count": 3,
   "id": "6578ca7c",
   "metadata": {
    "execution": {
     "iopub.execute_input": "2023-06-13T16:56:40.846627Z",
     "iopub.status.busy": "2023-06-13T16:56:40.846194Z",
     "iopub.status.idle": "2023-06-13T16:56:40.852787Z",
     "shell.execute_reply": "2023-06-13T16:56:40.851281Z"
    },
    "papermill": {
     "duration": 0.018706,
     "end_time": "2023-06-13T16:56:40.855901",
     "exception": false,
     "start_time": "2023-06-13T16:56:40.837195",
     "status": "completed"
    },
    "tags": []
   },
   "outputs": [
    {
     "name": "stdout",
     "output_type": "stream",
     "text": [
      "(3132, 9)\n"
     ]
    }
   ],
   "source": [
    "print(train_df.shape)"
   ]
  },
  {
   "cell_type": "code",
   "execution_count": 4,
   "id": "dac60be5",
   "metadata": {
    "execution": {
     "iopub.execute_input": "2023-06-13T16:56:40.874281Z",
     "iopub.status.busy": "2023-06-13T16:56:40.872990Z",
     "iopub.status.idle": "2023-06-13T16:56:40.915233Z",
     "shell.execute_reply": "2023-06-13T16:56:40.913358Z"
    },
    "papermill": {
     "duration": 0.054064,
     "end_time": "2023-06-13T16:56:40.917906",
     "exception": false,
     "start_time": "2023-06-13T16:56:40.863842",
     "status": "completed"
    },
    "tags": []
   },
   "outputs": [
    {
     "data": {
      "text/html": [
       "<div>\n",
       "<style scoped>\n",
       "    .dataframe tbody tr th:only-of-type {\n",
       "        vertical-align: middle;\n",
       "    }\n",
       "\n",
       "    .dataframe tbody tr th {\n",
       "        vertical-align: top;\n",
       "    }\n",
       "\n",
       "    .dataframe thead th {\n",
       "        text-align: right;\n",
       "    }\n",
       "</style>\n",
       "<table border=\"1\" class=\"dataframe\">\n",
       "  <thead>\n",
       "    <tr style=\"text-align: right;\">\n",
       "      <th></th>\n",
       "      <th>A</th>\n",
       "      <th>B</th>\n",
       "      <th>C</th>\n",
       "      <th>D</th>\n",
       "      <th>E</th>\n",
       "      <th>F</th>\n",
       "      <th>G</th>\n",
       "      <th>H</th>\n",
       "      <th>Target</th>\n",
       "    </tr>\n",
       "  </thead>\n",
       "  <tbody>\n",
       "    <tr>\n",
       "      <th>0</th>\n",
       "      <td>F</td>\n",
       "      <td>0.615</td>\n",
       "      <td>0.455</td>\n",
       "      <td>0.135</td>\n",
       "      <td>1.0590</td>\n",
       "      <td>0.4735</td>\n",
       "      <td>0.2630</td>\n",
       "      <td>0.274</td>\n",
       "      <td>9</td>\n",
       "    </tr>\n",
       "    <tr>\n",
       "      <th>1</th>\n",
       "      <td>F</td>\n",
       "      <td>0.515</td>\n",
       "      <td>0.395</td>\n",
       "      <td>0.140</td>\n",
       "      <td>0.6860</td>\n",
       "      <td>0.2810</td>\n",
       "      <td>0.1255</td>\n",
       "      <td>0.220</td>\n",
       "      <td>12</td>\n",
       "    </tr>\n",
       "    <tr>\n",
       "      <th>2</th>\n",
       "      <td>M</td>\n",
       "      <td>0.660</td>\n",
       "      <td>0.530</td>\n",
       "      <td>0.175</td>\n",
       "      <td>1.5830</td>\n",
       "      <td>0.7395</td>\n",
       "      <td>0.3505</td>\n",
       "      <td>0.405</td>\n",
       "      <td>10</td>\n",
       "    </tr>\n",
       "    <tr>\n",
       "      <th>3</th>\n",
       "      <td>M</td>\n",
       "      <td>0.455</td>\n",
       "      <td>0.365</td>\n",
       "      <td>0.095</td>\n",
       "      <td>0.5140</td>\n",
       "      <td>0.2245</td>\n",
       "      <td>0.1010</td>\n",
       "      <td>0.150</td>\n",
       "      <td>15</td>\n",
       "    </tr>\n",
       "    <tr>\n",
       "      <th>4</th>\n",
       "      <td>M</td>\n",
       "      <td>0.495</td>\n",
       "      <td>0.400</td>\n",
       "      <td>0.155</td>\n",
       "      <td>0.8085</td>\n",
       "      <td>0.2345</td>\n",
       "      <td>0.1155</td>\n",
       "      <td>0.350</td>\n",
       "      <td>6</td>\n",
       "    </tr>\n",
       "  </tbody>\n",
       "</table>\n",
       "</div>"
      ],
      "text/plain": [
       "   A      B      C      D       E       F       G      H  Target\n",
       "0  F  0.615  0.455  0.135  1.0590  0.4735  0.2630  0.274       9\n",
       "1  F  0.515  0.395  0.140  0.6860  0.2810  0.1255  0.220      12\n",
       "2  M  0.660  0.530  0.175  1.5830  0.7395  0.3505  0.405      10\n",
       "3  M  0.455  0.365  0.095  0.5140  0.2245  0.1010  0.150      15\n",
       "4  M  0.495  0.400  0.155  0.8085  0.2345  0.1155  0.350       6"
      ]
     },
     "execution_count": 4,
     "metadata": {},
     "output_type": "execute_result"
    }
   ],
   "source": [
    "train_df.head()"
   ]
  },
  {
   "cell_type": "code",
   "execution_count": 5,
   "id": "34dc219c",
   "metadata": {
    "execution": {
     "iopub.execute_input": "2023-06-13T16:56:40.937891Z",
     "iopub.status.busy": "2023-06-13T16:56:40.937392Z",
     "iopub.status.idle": "2023-06-13T16:56:40.946311Z",
     "shell.execute_reply": "2023-06-13T16:56:40.945103Z"
    },
    "papermill": {
     "duration": 0.022887,
     "end_time": "2023-06-13T16:56:40.949013",
     "exception": false,
     "start_time": "2023-06-13T16:56:40.926126",
     "status": "completed"
    },
    "tags": []
   },
   "outputs": [
    {
     "data": {
      "text/plain": [
       "Index(['A', 'B', 'C', 'D', 'E', 'F', 'G', 'H', 'Target'], dtype='object')"
      ]
     },
     "execution_count": 5,
     "metadata": {},
     "output_type": "execute_result"
    }
   ],
   "source": [
    "train_df.columns"
   ]
  },
  {
   "cell_type": "code",
   "execution_count": 6,
   "id": "f04ff652",
   "metadata": {
    "execution": {
     "iopub.execute_input": "2023-06-13T16:56:40.968822Z",
     "iopub.status.busy": "2023-06-13T16:56:40.968325Z",
     "iopub.status.idle": "2023-06-13T16:56:40.984411Z",
     "shell.execute_reply": "2023-06-13T16:56:40.983254Z"
    },
    "papermill": {
     "duration": 0.028904,
     "end_time": "2023-06-13T16:56:40.986819",
     "exception": false,
     "start_time": "2023-06-13T16:56:40.957915",
     "status": "completed"
    },
    "tags": []
   },
   "outputs": [
    {
     "data": {
      "text/plain": [
       "array([0, 2, 1])"
      ]
     },
     "execution_count": 6,
     "metadata": {},
     "output_type": "execute_result"
    }
   ],
   "source": [
    "## Label encoding column A of our dataset\n",
    "from sklearn import preprocessing\n",
    "  \n",
    "# label_encoder object knows \n",
    "# how to understand word labels.\n",
    "label_encoder = preprocessing.LabelEncoder()\n",
    "  \n",
    "# Encode labels in column 'species'.\n",
    "train_df['A']= label_encoder.fit_transform(train_df['A'])\n",
    "  \n",
    "train_df['A'].unique()"
   ]
  },
  {
   "cell_type": "code",
   "execution_count": 7,
   "id": "4bc30993",
   "metadata": {
    "execution": {
     "iopub.execute_input": "2023-06-13T16:56:41.008981Z",
     "iopub.status.busy": "2023-06-13T16:56:41.008219Z",
     "iopub.status.idle": "2023-06-13T16:56:41.021416Z",
     "shell.execute_reply": "2023-06-13T16:56:41.020285Z"
    },
    "papermill": {
     "duration": 0.028182,
     "end_time": "2023-06-13T16:56:41.024268",
     "exception": false,
     "start_time": "2023-06-13T16:56:40.996086",
     "status": "completed"
    },
    "tags": []
   },
   "outputs": [],
   "source": [
    "X = train_df.drop(['Target'], axis=1)\n",
    "y = train_df['Target']"
   ]
  },
  {
   "cell_type": "code",
   "execution_count": 8,
   "id": "65a0619f",
   "metadata": {
    "execution": {
     "iopub.execute_input": "2023-06-13T16:56:41.043113Z",
     "iopub.status.busy": "2023-06-13T16:56:41.042655Z",
     "iopub.status.idle": "2023-06-13T16:56:41.051982Z",
     "shell.execute_reply": "2023-06-13T16:56:41.050055Z"
    },
    "papermill": {
     "duration": 0.022473,
     "end_time": "2023-06-13T16:56:41.055202",
     "exception": false,
     "start_time": "2023-06-13T16:56:41.032729",
     "status": "completed"
    },
    "tags": []
   },
   "outputs": [],
   "source": [
    "X_train, X_val, y_train, y_val = train_test_split(X, y, test_size = 0.1)"
   ]
  },
  {
   "cell_type": "code",
   "execution_count": 9,
   "id": "9e1d3407",
   "metadata": {
    "execution": {
     "iopub.execute_input": "2023-06-13T16:56:41.075925Z",
     "iopub.status.busy": "2023-06-13T16:56:41.075169Z",
     "iopub.status.idle": "2023-06-13T16:56:41.085184Z",
     "shell.execute_reply": "2023-06-13T16:56:41.083904Z"
    },
    "papermill": {
     "duration": 0.023368,
     "end_time": "2023-06-13T16:56:41.087888",
     "exception": false,
     "start_time": "2023-06-13T16:56:41.064520",
     "status": "completed"
    },
    "tags": []
   },
   "outputs": [
    {
     "name": "stdout",
     "output_type": "stream",
     "text": [
      "9     459\n",
      "10    420\n",
      "8     402\n",
      "11    335\n",
      "7     249\n",
      "6     182\n",
      "12    181\n",
      "13    148\n",
      "14     88\n",
      "15     73\n",
      "5      67\n",
      "17     42\n",
      "16     42\n",
      "4      33\n",
      "18     23\n",
      "19     20\n",
      "20     19\n",
      "3      10\n",
      "21     10\n",
      "23      5\n",
      "22      3\n",
      "27      2\n",
      "24      1\n",
      "1       1\n",
      "2       1\n",
      "25      1\n",
      "29      1\n",
      "Name: Target, dtype: int64\n"
     ]
    }
   ],
   "source": [
    "print(y_train.value_counts())"
   ]
  },
  {
   "cell_type": "code",
   "execution_count": 10,
   "id": "a4c9f529",
   "metadata": {
    "execution": {
     "iopub.execute_input": "2023-06-13T16:56:41.108232Z",
     "iopub.status.busy": "2023-06-13T16:56:41.107341Z",
     "iopub.status.idle": "2023-06-13T16:56:41.155014Z",
     "shell.execute_reply": "2023-06-13T16:56:41.153393Z"
    },
    "papermill": {
     "duration": 0.063956,
     "end_time": "2023-06-13T16:56:41.161165",
     "exception": false,
     "start_time": "2023-06-13T16:56:41.097209",
     "status": "completed"
    },
    "tags": []
   },
   "outputs": [
    {
     "data": {
      "text/plain": [
       "RandomForestRegressor()"
      ]
     },
     "execution_count": 10,
     "metadata": {},
     "output_type": "execute_result"
    }
   ],
   "source": [
    "lr=RandomForestRegressor()\n",
    "\n",
    "lr.fit(X_train, y_train)"
   ]
  },
  {
   "cell_type": "code",
   "execution_count": 11,
   "id": "099ba5fd",
   "metadata": {
    "execution": {
     "iopub.execute_input": "2023-06-13T16:56:41.188134Z",
     "iopub.status.busy": "2023-06-13T16:56:41.187719Z",
     "iopub.status.idle": "2023-06-13T16:56:41.199347Z",
     "shell.execute_reply": "2023-06-13T16:56:41.197758Z"
    },
    "papermill": {
     "duration": 0.025607,
     "end_time": "2023-06-13T16:56:41.202438",
     "exception": false,
     "start_time": "2023-06-13T16:56:41.176831",
     "status": "completed"
    },
    "tags": []
   },
   "outputs": [],
   "source": [
    "y_pred = lr.predict(X_val)"
   ]
  },
  {
   "cell_type": "code",
   "execution_count": 12,
   "id": "9b227d1f",
   "metadata": {
    "execution": {
     "iopub.execute_input": "2023-06-13T16:56:41.228744Z",
     "iopub.status.busy": "2023-06-13T16:56:41.226873Z",
     "iopub.status.idle": "2023-06-13T16:56:41.238426Z",
     "shell.execute_reply": "2023-06-13T16:56:41.236785Z"
    },
    "papermill": {
     "duration": 0.028215,
     "end_time": "2023-06-13T16:56:41.241705",
     "exception": false,
     "start_time": "2023-06-13T16:56:41.213490",
     "status": "completed"
    },
    "tags": []
   },
   "outputs": [
    {
     "name": "stdout",
     "output_type": "stream",
     "text": [
      "4.407665286624204\n"
     ]
    }
   ],
   "source": [
    "error= mean_squared_error(y_val, y_pred)\n",
    "print(error)"
   ]
  },
  {
   "cell_type": "code",
   "execution_count": 13,
   "id": "c6c39d33",
   "metadata": {
    "execution": {
     "iopub.execute_input": "2023-06-13T16:56:41.263038Z",
     "iopub.status.busy": "2023-06-13T16:56:41.262175Z",
     "iopub.status.idle": "2023-06-13T16:56:41.280274Z",
     "shell.execute_reply": "2023-06-13T16:56:41.279001Z"
    },
    "papermill": {
     "duration": 0.032632,
     "end_time": "2023-06-13T16:56:41.283202",
     "exception": false,
     "start_time": "2023-06-13T16:56:41.250570",
     "status": "completed"
    },
    "tags": []
   },
   "outputs": [],
   "source": [
    "test_data = pd.read_csv(\"Test.csv\")"
   ]
  },
  {
   "cell_type": "code",
   "execution_count": 14,
   "id": "1d014243",
   "metadata": {
    "execution": {
     "iopub.execute_input": "2023-06-13T16:56:41.307570Z",
     "iopub.status.busy": "2023-06-13T16:56:41.307127Z",
     "iopub.status.idle": "2023-06-13T16:56:41.316131Z",
     "shell.execute_reply": "2023-06-13T16:56:41.314826Z"
    },
    "papermill": {
     "duration": 0.025496,
     "end_time": "2023-06-13T16:56:41.318794",
     "exception": false,
     "start_time": "2023-06-13T16:56:41.293298",
     "status": "completed"
    },
    "tags": []
   },
   "outputs": [
    {
     "data": {
      "text/plain": [
       "(1045, 9)"
      ]
     },
     "execution_count": 14,
     "metadata": {},
     "output_type": "execute_result"
    }
   ],
   "source": [
    "test_data.shape"
   ]
  },
  {
   "cell_type": "code",
   "execution_count": 15,
   "id": "5328a2f2",
   "metadata": {
    "execution": {
     "iopub.execute_input": "2023-06-13T16:56:41.340450Z",
     "iopub.status.busy": "2023-06-13T16:56:41.339257Z",
     "iopub.status.idle": "2023-06-13T16:56:41.366805Z",
     "shell.execute_reply": "2023-06-13T16:56:41.365363Z"
    },
    "papermill": {
     "duration": 0.041634,
     "end_time": "2023-06-13T16:56:41.370305",
     "exception": false,
     "start_time": "2023-06-13T16:56:41.328671",
     "status": "completed"
    },
    "tags": []
   },
   "outputs": [
    {
     "data": {
      "text/html": [
       "<div>\n",
       "<style scoped>\n",
       "    .dataframe tbody tr th:only-of-type {\n",
       "        vertical-align: middle;\n",
       "    }\n",
       "\n",
       "    .dataframe tbody tr th {\n",
       "        vertical-align: top;\n",
       "    }\n",
       "\n",
       "    .dataframe thead th {\n",
       "        text-align: right;\n",
       "    }\n",
       "</style>\n",
       "<table border=\"1\" class=\"dataframe\">\n",
       "  <thead>\n",
       "    <tr style=\"text-align: right;\">\n",
       "      <th></th>\n",
       "      <th>Index</th>\n",
       "      <th>A</th>\n",
       "      <th>B</th>\n",
       "      <th>C</th>\n",
       "      <th>D</th>\n",
       "      <th>E</th>\n",
       "      <th>F</th>\n",
       "      <th>G</th>\n",
       "      <th>H</th>\n",
       "    </tr>\n",
       "  </thead>\n",
       "  <tbody>\n",
       "    <tr>\n",
       "      <th>0</th>\n",
       "      <td>866</td>\n",
       "      <td>M</td>\n",
       "      <td>0.605</td>\n",
       "      <td>0.455</td>\n",
       "      <td>0.160</td>\n",
       "      <td>1.1035</td>\n",
       "      <td>0.4210</td>\n",
       "      <td>0.3015</td>\n",
       "      <td>0.325</td>\n",
       "    </tr>\n",
       "    <tr>\n",
       "      <th>1</th>\n",
       "      <td>1483</td>\n",
       "      <td>M</td>\n",
       "      <td>0.590</td>\n",
       "      <td>0.440</td>\n",
       "      <td>0.150</td>\n",
       "      <td>0.8725</td>\n",
       "      <td>0.3870</td>\n",
       "      <td>0.2150</td>\n",
       "      <td>0.245</td>\n",
       "    </tr>\n",
       "    <tr>\n",
       "      <th>2</th>\n",
       "      <td>599</td>\n",
       "      <td>F</td>\n",
       "      <td>0.560</td>\n",
       "      <td>0.445</td>\n",
       "      <td>0.195</td>\n",
       "      <td>0.9810</td>\n",
       "      <td>0.3050</td>\n",
       "      <td>0.2245</td>\n",
       "      <td>0.335</td>\n",
       "    </tr>\n",
       "    <tr>\n",
       "      <th>3</th>\n",
       "      <td>1702</td>\n",
       "      <td>F</td>\n",
       "      <td>0.635</td>\n",
       "      <td>0.490</td>\n",
       "      <td>0.170</td>\n",
       "      <td>1.2615</td>\n",
       "      <td>0.5385</td>\n",
       "      <td>0.2665</td>\n",
       "      <td>0.380</td>\n",
       "    </tr>\n",
       "    <tr>\n",
       "      <th>4</th>\n",
       "      <td>670</td>\n",
       "      <td>M</td>\n",
       "      <td>0.475</td>\n",
       "      <td>0.385</td>\n",
       "      <td>0.145</td>\n",
       "      <td>0.6175</td>\n",
       "      <td>0.2350</td>\n",
       "      <td>0.1080</td>\n",
       "      <td>0.215</td>\n",
       "    </tr>\n",
       "  </tbody>\n",
       "</table>\n",
       "</div>"
      ],
      "text/plain": [
       "   Index  A      B      C      D       E       F       G      H\n",
       "0    866  M  0.605  0.455  0.160  1.1035  0.4210  0.3015  0.325\n",
       "1   1483  M  0.590  0.440  0.150  0.8725  0.3870  0.2150  0.245\n",
       "2    599  F  0.560  0.445  0.195  0.9810  0.3050  0.2245  0.335\n",
       "3   1702  F  0.635  0.490  0.170  1.2615  0.5385  0.2665  0.380\n",
       "4    670  M  0.475  0.385  0.145  0.6175  0.2350  0.1080  0.215"
      ]
     },
     "execution_count": 15,
     "metadata": {},
     "output_type": "execute_result"
    }
   ],
   "source": [
    "test_data.head()"
   ]
  },
  {
   "cell_type": "code",
   "execution_count": 16,
   "id": "6a51bffc",
   "metadata": {
    "execution": {
     "iopub.execute_input": "2023-06-13T16:56:41.397698Z",
     "iopub.status.busy": "2023-06-13T16:56:41.396566Z",
     "iopub.status.idle": "2023-06-13T16:56:41.406907Z",
     "shell.execute_reply": "2023-06-13T16:56:41.404681Z"
    },
    "papermill": {
     "duration": 0.029342,
     "end_time": "2023-06-13T16:56:41.410717",
     "exception": false,
     "start_time": "2023-06-13T16:56:41.381375",
     "status": "completed"
    },
    "tags": []
   },
   "outputs": [],
   "source": [
    "test_data['A']= label_encoder.fit_transform(test_data['A'])"
   ]
  },
  {
   "cell_type": "code",
   "execution_count": 17,
   "id": "3cbc7b85",
   "metadata": {
    "execution": {
     "iopub.execute_input": "2023-06-13T16:56:41.440318Z",
     "iopub.status.busy": "2023-06-13T16:56:41.438974Z",
     "iopub.status.idle": "2023-06-13T16:56:41.447013Z",
     "shell.execute_reply": "2023-06-13T16:56:41.445852Z"
    },
    "papermill": {
     "duration": 0.025684,
     "end_time": "2023-06-13T16:56:41.450492",
     "exception": false,
     "start_time": "2023-06-13T16:56:41.424808",
     "status": "completed"
    },
    "tags": []
   },
   "outputs": [],
   "source": [
    "Index=test_data['Index']\n",
    "test_data.drop(['Index'],axis=1,inplace=True)"
   ]
  },
  {
   "cell_type": "code",
   "execution_count": 18,
   "id": "551dde3f",
   "metadata": {
    "execution": {
     "iopub.execute_input": "2023-06-13T16:56:41.471831Z",
     "iopub.status.busy": "2023-06-13T16:56:41.470715Z",
     "iopub.status.idle": "2023-06-13T16:56:41.480030Z",
     "shell.execute_reply": "2023-06-13T16:56:41.478954Z"
    },
    "papermill": {
     "duration": 0.022578,
     "end_time": "2023-06-13T16:56:41.482675",
     "exception": false,
     "start_time": "2023-06-13T16:56:41.460097",
     "status": "completed"
    },
    "tags": []
   },
   "outputs": [],
   "source": [
    "y_test = lr.predict(test_data)"
   ]
  },
  {
   "cell_type": "code",
   "execution_count": 19,
   "id": "f6d6e0e9",
   "metadata": {
    "execution": {
     "iopub.execute_input": "2023-06-13T16:56:41.504833Z",
     "iopub.status.busy": "2023-06-13T16:56:41.504159Z",
     "iopub.status.idle": "2023-06-13T16:56:41.512453Z",
     "shell.execute_reply": "2023-06-13T16:56:41.511282Z"
    },
    "papermill": {
     "duration": 0.023096,
     "end_time": "2023-06-13T16:56:41.515342",
     "exception": false,
     "start_time": "2023-06-13T16:56:41.492246",
     "status": "completed"
    },
    "tags": []
   },
   "outputs": [],
   "source": [
    "result = pd.DataFrame(Index, columns = ['Index'])\n",
    "result['Target']= y_test\n"
   ]
  },
  {
   "cell_type": "code",
   "execution_count": 20,
   "id": "fd666b49",
   "metadata": {
    "execution": {
     "iopub.execute_input": "2023-06-13T16:56:41.536722Z",
     "iopub.status.busy": "2023-06-13T16:56:41.536266Z",
     "iopub.status.idle": "2023-06-13T16:56:41.551018Z",
     "shell.execute_reply": "2023-06-13T16:56:41.549833Z"
    },
    "papermill": {
     "duration": 0.028494,
     "end_time": "2023-06-13T16:56:41.553371",
     "exception": false,
     "start_time": "2023-06-13T16:56:41.524877",
     "status": "completed"
    },
    "tags": []
   },
   "outputs": [
    {
     "data": {
      "text/html": [
       "<div>\n",
       "<style scoped>\n",
       "    .dataframe tbody tr th:only-of-type {\n",
       "        vertical-align: middle;\n",
       "    }\n",
       "\n",
       "    .dataframe tbody tr th {\n",
       "        vertical-align: top;\n",
       "    }\n",
       "\n",
       "    .dataframe thead th {\n",
       "        text-align: right;\n",
       "    }\n",
       "</style>\n",
       "<table border=\"1\" class=\"dataframe\">\n",
       "  <thead>\n",
       "    <tr style=\"text-align: right;\">\n",
       "      <th></th>\n",
       "      <th>Index</th>\n",
       "      <th>Target</th>\n",
       "    </tr>\n",
       "  </thead>\n",
       "  <tbody>\n",
       "    <tr>\n",
       "      <th>0</th>\n",
       "      <td>866</td>\n",
       "      <td>12.31</td>\n",
       "    </tr>\n",
       "    <tr>\n",
       "      <th>1</th>\n",
       "      <td>1483</td>\n",
       "      <td>9.26</td>\n",
       "    </tr>\n",
       "    <tr>\n",
       "      <th>2</th>\n",
       "      <td>599</td>\n",
       "      <td>14.31</td>\n",
       "    </tr>\n",
       "    <tr>\n",
       "      <th>3</th>\n",
       "      <td>1702</td>\n",
       "      <td>11.25</td>\n",
       "    </tr>\n",
       "    <tr>\n",
       "      <th>4</th>\n",
       "      <td>670</td>\n",
       "      <td>12.01</td>\n",
       "    </tr>\n",
       "    <tr>\n",
       "      <th>...</th>\n",
       "      <td>...</td>\n",
       "      <td>...</td>\n",
       "    </tr>\n",
       "    <tr>\n",
       "      <th>1040</th>\n",
       "      <td>532</td>\n",
       "      <td>10.02</td>\n",
       "    </tr>\n",
       "    <tr>\n",
       "      <th>1041</th>\n",
       "      <td>3417</td>\n",
       "      <td>9.28</td>\n",
       "    </tr>\n",
       "    <tr>\n",
       "      <th>1042</th>\n",
       "      <td>1505</td>\n",
       "      <td>11.33</td>\n",
       "    </tr>\n",
       "    <tr>\n",
       "      <th>1043</th>\n",
       "      <td>2245</td>\n",
       "      <td>12.43</td>\n",
       "    </tr>\n",
       "    <tr>\n",
       "      <th>1044</th>\n",
       "      <td>2428</td>\n",
       "      <td>9.97</td>\n",
       "    </tr>\n",
       "  </tbody>\n",
       "</table>\n",
       "<p>1045 rows × 2 columns</p>\n",
       "</div>"
      ],
      "text/plain": [
       "      Index  Target\n",
       "0       866   12.31\n",
       "1      1483    9.26\n",
       "2       599   14.31\n",
       "3      1702   11.25\n",
       "4       670   12.01\n",
       "...     ...     ...\n",
       "1040    532   10.02\n",
       "1041   3417    9.28\n",
       "1042   1505   11.33\n",
       "1043   2245   12.43\n",
       "1044   2428    9.97\n",
       "\n",
       "[1045 rows x 2 columns]"
      ]
     },
     "execution_count": 20,
     "metadata": {},
     "output_type": "execute_result"
    }
   ],
   "source": [
    "result"
   ]
  },
  {
   "cell_type": "code",
   "execution_count": 21,
   "id": "823c61e3",
   "metadata": {
    "execution": {
     "iopub.execute_input": "2023-06-13T16:56:41.574507Z",
     "iopub.status.busy": "2023-06-13T16:56:41.573840Z",
     "iopub.status.idle": "2023-06-13T16:56:41.591401Z",
     "shell.execute_reply": "2023-06-13T16:56:41.589962Z"
    },
    "papermill": {
     "duration": 0.032001,
     "end_time": "2023-06-13T16:56:41.594735",
     "exception": false,
     "start_time": "2023-06-13T16:56:41.562734",
     "status": "completed"
    },
    "tags": []
   },
   "outputs": [],
   "source": [
    "result.to_csv(\"submission1.csv\", index=False) #(for making submission file)"
   ]
  },
  {
   "cell_type": "code",
   "execution_count": null,
   "id": "4a37705b",
   "metadata": {
    "papermill": {
     "duration": 0.010995,
     "end_time": "2023-06-13T16:56:41.616271",
     "exception": false,
     "start_time": "2023-06-13T16:56:41.605276",
     "status": "completed"
    },
    "tags": []
   },
   "outputs": [],
   "source": []
  },
  {
   "cell_type": "code",
   "execution_count": null,
   "id": "d23398d5",
   "metadata": {},
   "outputs": [],
   "source": []
  }
 ],
 "metadata": {
  "kernelspec": {
   "display_name": "Python 3 (ipykernel)",
   "language": "python",
   "name": "python3"
  },
  "language_info": {
   "codemirror_mode": {
    "name": "ipython",
    "version": 3
   },
   "file_extension": ".py",
   "mimetype": "text/x-python",
   "name": "python",
   "nbconvert_exporter": "python",
   "pygments_lexer": "ipython3",
   "version": "3.9.12"
  },
  "papermill": {
   "default_parameters": {},
   "duration": 20.387019,
   "end_time": "2023-06-13T16:56:43.053457",
   "environment_variables": {},
   "exception": null,
   "input_path": "__notebook__.ipynb",
   "output_path": "__notebook__.ipynb",
   "parameters": {},
   "start_time": "2023-06-13T16:56:22.666438",
   "version": "2.4.0"
  }
 },
 "nbformat": 4,
 "nbformat_minor": 5
}
